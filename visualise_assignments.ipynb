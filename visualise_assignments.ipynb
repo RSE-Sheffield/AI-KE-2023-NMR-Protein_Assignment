{
 "cells": [
  {
   "cell_type": "code",
   "execution_count": 38,
   "metadata": {},
   "outputs": [],
   "source": [
    "import pandas as pd\n",
    "import matplotlib.pyplot as plt\n",
    "from Bio.Data.IUPACData import protein_letters_3to1\n",
    "import numpy as np\n",
    "import nmr_prot_assignment as npa\n",
    "import os\n",
    "import seaborn as sns"
   ]
  },
  {
   "cell_type": "code",
   "execution_count": 39,
   "metadata": {},
   "outputs": [],
   "source": [
    "assignment_df = pd.read_csv(\"All_Assignments.csv\").rename(columns={'Unnamed: 0': 'Original_Index'})\n",
    "anon_assignment_df = pd.read_csv(\"All_Anonymised_Assignments.csv\").rename(columns={'Unnamed: 0': 'Original_Index'})"
   ]
  },
  {
   "attachments": {},
   "cell_type": "markdown",
   "metadata": {},
   "source": [
    "### Generate a file for Mike to check"
   ]
  },
  {
   "cell_type": "code",
   "execution_count": 45,
   "metadata": {},
   "outputs": [],
   "source": [
    "def get_entry_info(anon_assignment_df, assignment_df, entry_id):\n",
    "\n",
    "    if not os.path.exists(str(entry_id)):\n",
    "        os.mkdir(str(entry_id))\n",
    "\n",
    "    # Get a certain entry\n",
    "    assignment_tmp = assignment_df[assignment_df['Entry_ID'] == entry_id]\n",
    "    anon_assignment_tmp = anon_assignment_df[anon_assignment_df['Entry_ID'] == entry_id]\n",
    "\n",
    "    anon_assignment_tmp = anon_assignment_tmp.sort_values('Dummy_Comp_index_ID')\n",
    "\n",
    "    anon_assignment_tmp[['Dummy_Comp_index_ID', 'Atom_ID', 'Val', 'Comp_index_ID', 'Comp_ID_sl']].to_csv(f'{entry_id}/Anonymised_assignment.csv', index=False)\n",
    "    # assignment_tmp[['Comp_ID_sl', 'Comp_index_ID', 'Atom_ID', 'Val']].to_csv(f'{entry_id}/Assignment.csv', index=False)\n",
    "\n",
    "    with open(f\"{entry_id}/Sequence.txt\", \"w\") as text_file:\n",
    "        text_file.write(f\"Sequence: {anon_assignment_tmp['sequence_from_assignment'].iloc[0]}\")\n",
    "\n",
    "    add_metadata_to_anonymised_assignment_csv(f'{entry_id}/Anonymised_assignment.csv')\n",
    "    # add_metadata_to_assignment_csv(f'{entry_id}/Assignment.csv')\n",
    "\n",
    "    #add_metadata_to_assignment_csv(f'{entry_id}/Assignment.csv')\n",
    "\n",
    "def add_metadata_to_anonymised_assignment_csv(csv_file):\n",
    "\n",
    "    with open(csv_file, \"r\") as anon_assingment:\n",
    "        text = anon_assingment.read()\n",
    "\n",
    "    # Add some meta data to top of csv files\n",
    "    with open(csv_file, \"w\") as anon_assingment:\n",
    "        anon_assingment.write('# Dummy_Comp_index_ID: Random integer assigned to residue \\n')\n",
    "        anon_assingment.write('# Atom ID: Symbol for atom \\n')\n",
    "        anon_assingment.write('# Val: Chemical shift for corresponding atom \\n')\n",
    "        anon_assingment.write(text)\n",
    "\n",
    "def add_metadata_to_assignment_csv(csv_file):\n",
    "\n",
    "    with open(csv_file, \"r\") as assingment:\n",
    "        text = assingment.read()\n",
    "\n",
    "    # Add some meta data to top of csv files\n",
    "    with open(csv_file, \"w\") as assingment:\n",
    "        assingment.write('# Comp_ID_sl: Single Letter Amino Acid \\n')\n",
    "        assingment.write('# Comp_index_ID: Residue Index \\n')\n",
    "        assingment.write('# Atom ID: Symbol for atom \\n')\n",
    "        assingment.write('# Val: Chemical shift for corresponding atom \\n')\n",
    "        assingment.write(text)\n"
   ]
  },
  {
   "cell_type": "code",
   "execution_count": 46,
   "metadata": {},
   "outputs": [],
   "source": [
    "get_entry_info(anon_assignment_df, assignment_df, 4081)"
   ]
  },
  {
   "attachments": {},
   "cell_type": "markdown",
   "metadata": {},
   "source": [
    "### Plot Distributions of each Atom"
   ]
  },
  {
   "cell_type": "code",
   "execution_count": null,
   "metadata": {},
   "outputs": [],
   "source": [
    "import plotly.express as px\n",
    "\n",
    "bmrb_mean_shifts = {'H': 8.193, 'C': 177.750, 'CA': 53.158, 'CB': 19.033, 'N': 123.351}\n",
    "\n",
    "fig = px.histogram(assignment_df, x='Val', color='Atom_ID', opacity=0.75, marginal='box')\n",
    "\n",
    "for key, values in bmrb_mean_shifts.items():\n",
    "    fig.add_vline(x=values, line_width=1, line_dash=\"dash\", line_color=\"black\", annotation_text=key)\n",
    "\n",
    "fig"
   ]
  },
  {
   "attachments": {},
   "cell_type": "markdown",
   "metadata": {},
   "source": [
    "## Define Inputs and Outputs to model"
   ]
  },
  {
   "cell_type": "code",
   "execution_count": null,
   "metadata": {},
   "outputs": [],
   "source": [
    "input_df = npa.get_model_outputs_from_assignment_df(assignment_df)"
   ]
  },
  {
   "cell_type": "code",
   "execution_count": null,
   "metadata": {},
   "outputs": [],
   "source": [
    "output_df = npa.get_model_inputs_from_anonymised_assignments_df(assignment_df)"
   ]
  },
  {
   "cell_type": "code",
   "execution_count": null,
   "metadata": {},
   "outputs": [],
   "source": [
    "output_df"
   ]
  }
 ],
 "metadata": {
  "kernelspec": {
   "display_name": "protein_assignment",
   "language": "python",
   "name": "python3"
  },
  "language_info": {
   "codemirror_mode": {
    "name": "ipython",
    "version": 3
   },
   "file_extension": ".py",
   "mimetype": "text/x-python",
   "name": "python",
   "nbconvert_exporter": "python",
   "pygments_lexer": "ipython3",
   "version": "3.11.2"
  },
  "orig_nbformat": 4
 },
 "nbformat": 4,
 "nbformat_minor": 2
}
